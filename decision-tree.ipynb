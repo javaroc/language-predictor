{
 "cells": [
  {
   "cell_type": "code",
   "execution_count": 19,
   "metadata": {},
   "outputs": [],
   "source": [
    "from sklearn.tree import DecisionTreeClassifier\n",
    "from sklearn import tree\n",
    "from sklearn.ensemble import RandomForestClassifier\n",
    "from sklearn.model_selection import train_test_split\n",
    "import numpy as np\n",
    "import pandas as pd\n",
    "from scipy.io import arff\n",
    "import matplotlib.pyplot as plt\n",
    "import graphviz\n",
    "avg = lambda l: sum(l) / len(l)"
   ]
  },
  {
   "cell_type": "code",
   "execution_count": 20,
   "metadata": {},
   "outputs": [],
   "source": [
    "sentences_arff = arff.loadarff('data.arff')\n",
    "sentences_df = pd.DataFrame(sentences_arff[0])\n",
    "sentences_np = sentences_df.to_numpy()\n",
    "sentences_X = sentences_np[:, :-1]\n",
    "sentences_y = np.array(list(map(lambda x: x.decode(), sentences_np[:, -1])))"
   ]
  },
  {
   "cell_type": "markdown",
   "metadata": {},
   "source": [
    "### Decision Tree"
   ]
  },
  {
   "cell_type": "code",
   "execution_count": 26,
   "metadata": {},
   "outputs": [
    {
     "data": {
      "text/plain": [
       "'tree-all_data.svg'"
      ]
     },
     "execution_count": 26,
     "metadata": {},
     "output_type": "execute_result"
    }
   ],
   "source": [
    "clf = DecisionTreeClassifier(random_state=0)\n",
    "clf.fit(sentences_X, sentences_y)\n",
    "# plt.figure()\n",
    "# tree.plot_tree(clf,\n",
    "#                 feature_names=sentences_df.columns[:-1],\n",
    "#                 class_names=sorted(list(set(sentences_y))),\n",
    "#                 filled=True,\n",
    "#                 max_depth=5,\n",
    "#                 fontsize=None)\n",
    "# DOT data\n",
    "dot_data = tree.export_graphviz(clf, out_file=None, \n",
    "                                feature_names=sentences_df.columns[:-1],\n",
    "                                class_names=sorted(list(set(sentences_y))),\n",
    "                                filled=True)\n",
    "\n",
    "# Draw graph\n",
    "graph = graphviz.Source(dot_data, format=\"svg\") \n",
    "graph\n",
    "graph.render(\"tree-all_data\")"
   ]
  },
  {
   "cell_type": "code",
   "execution_count": 7,
   "metadata": {},
   "outputs": [],
   "source": [
    "random_states = [14, 2531, 623, 443, 345, 25, 3525, 35]\n",
    "\n",
    "for random_state in random_states:\n",
    "    X_train, X_test, y_train, y_test = train_test_split(sentences_X, sentences_y, random_state=random_state, stratify=sentences_y)\n",
    "    model = DecisionTreeClassifier(random_state=random_state, max_depth=5)\n",
    "    model.fit(X_train, y_train)"
   ]
  },
  {
   "cell_type": "code",
   "execution_count": null,
   "metadata": {},
   "outputs": [],
   "source": []
  }
 ],
 "metadata": {
  "kernelspec": {
   "display_name": "Python 3",
   "language": "python",
   "name": "python3"
  },
  "language_info": {
   "codemirror_mode": {
    "name": "ipython",
    "version": 3
   },
   "file_extension": ".py",
   "mimetype": "text/x-python",
   "name": "python",
   "nbconvert_exporter": "python",
   "pygments_lexer": "ipython3",
   "version": "3.10.12"
  }
 },
 "nbformat": 4,
 "nbformat_minor": 2
}
