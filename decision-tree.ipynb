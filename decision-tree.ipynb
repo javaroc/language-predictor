{
 "cells": [
  {
   "cell_type": "markdown",
   "metadata": {},
   "source": [
    "# Decision Tree and Random Forest Classifier\n",
    "### Summary\n",
    "In this notebook, I experimented with fitting a single decision tree and a random forest classifier to the data. I evaluated models based on their average test set score under stratified 10-fold cross-validation.\n",
    "\n",
    "My key findings:\n",
    "* Decision tree\n",
    "    * Best score was 0.7645.\n",
    "    * Max depth could be limited to ~15 (down from 37) without much loss. I have a graph (`images/dt_perfomance_vs_max_depth.svg`) to illustrate this.\n",
    "    * Best criterion was gini.\n",
    "* Random Forest Classifier\n",
    "    * Best score was 0.8926.\n",
    "    * Best size for forest was 1000 trees. Any more than that slowed down training without improving the score. The default was 100.\n",
    "    * Best value for `max_features` was the default of `sqrt(<total number of features>)`."
   ]
  },
  {
   "cell_type": "code",
   "execution_count": 2,
   "metadata": {},
   "outputs": [
    {
     "name": "stderr",
     "output_type": "stream",
     "text": [
      "/usr/lib/python3/dist-packages/scipy/__init__.py:146: UserWarning: A NumPy version >=1.17.3 and <1.25.0 is required for this version of SciPy (detected version 1.26.1\n",
      "  warnings.warn(f\"A NumPy version >={np_minversion} and <{np_maxversion}\"\n"
     ]
    }
   ],
   "source": [
    "from sklearn.tree import DecisionTreeClassifier\n",
    "from sklearn import tree\n",
    "from sklearn.ensemble import RandomForestClassifier\n",
    "from sklearn.model_selection import train_test_split, KFold, StratifiedKFold\n",
    "import numpy as np\n",
    "import pandas as pd\n",
    "from scipy.io import arff\n",
    "import matplotlib.pyplot as plt\n",
    "from tabulate import tabulate\n",
    "import graphviz\n",
    "avg = lambda l: sum(l) / len(l)"
   ]
  },
  {
   "cell_type": "code",
   "execution_count": 3,
   "metadata": {},
   "outputs": [],
   "source": [
    "sentences_arff = arff.loadarff('data.arff')\n",
    "sentences_df = pd.DataFrame(sentences_arff[0])\n",
    "sentences_np = sentences_df.to_numpy()\n",
    "sentences_X = sentences_np[:, :-1]\n",
    "sentences_y = np.array(list(map(lambda x: x.decode(), sentences_np[:, -1])))"
   ]
  },
  {
   "cell_type": "markdown",
   "metadata": {},
   "source": [
    "## Decision Tree"
   ]
  },
  {
   "cell_type": "code",
   "execution_count": 73,
   "metadata": {},
   "outputs": [
    {
     "name": "stdout",
     "output_type": "stream",
     "text": [
      "Depth: 32\n"
     ]
    },
    {
     "data": {
      "text/plain": [
       "'tree-all_data.svg'"
      ]
     },
     "execution_count": 73,
     "metadata": {},
     "output_type": "execute_result"
    }
   ],
   "source": [
    "## Plot of tree trained on full data set\n",
    "clf = DecisionTreeClassifier(random_state=0)\n",
    "clf.fit(sentences_X, sentences_y)\n",
    "print(f\"Depth: {clf.get_depth()}\")\n",
    "dot_data = tree.export_graphviz(clf, out_file=None, \n",
    "                                feature_names=sentences_df.columns[:-1],\n",
    "                                class_names=sorted(list(set(sentences_y))),\n",
    "                                filled=True,\n",
    "                                max_depth=3)\n",
    "\n",
    "# Draw graph\n",
    "graph = graphviz.Source(dot_data, format=\"svg\") \n",
    "graph.render(\"tree-all_data\")"
   ]
  },
  {
   "cell_type": "markdown",
   "metadata": {},
   "source": [
    "### Performance vs Max Depth"
   ]
  },
  {
   "cell_type": "code",
   "execution_count": 5,
   "metadata": {},
   "outputs": [],
   "source": [
    "results = []\n",
    "for max_depth in range(3, 37):\n",
    "    kf = StratifiedKFold(n_splits=10)\n",
    "    training_accuracies = []\n",
    "    test_accuracies = []\n",
    "    for train, test in kf.split(sentences_X, sentences_y):\n",
    "        X_train, X_test, y_train, y_test = sentences_X[train], sentences_X[test], sentences_y[train], sentences_y[test]\n",
    "        model = DecisionTreeClassifier(random_state=0, max_depth=max_depth)\n",
    "        model.fit(X_train, y_train)\n",
    "        training_accuracies.append(model.score(X_train, y_train))\n",
    "        test_accuracies.append(model.score(X_test, y_test))\n",
    "    results.append([f'max_depth={max_depth}', avg(training_accuracies), avg(test_accuracies)])"
   ]
  },
  {
   "cell_type": "code",
   "execution_count": 6,
   "metadata": {},
   "outputs": [
    {
     "data": {
      "image/png": "[encoded data removed]",
      "text/plain": [
       "<Figure size 432x288 with 1 Axes>"
      ]
     },
     "metadata": {
      "needs_background": "light"
     },
     "output_type": "display_data"
    },
    {
     "data": {
      "text/plain": [
       "<Figure size 432x288 with 0 Axes>"
      ]
     },
     "metadata": {},
     "output_type": "display_data"
    }
   ],
   "source": [
    "# print(tabulate(results, headers=['Model parameters', 'Average training accuracy', 'Average test accuracy']))\n",
    "X = np.arange(3, 37)\n",
    "training_accuracies = [x[1] for x in results]\n",
    "test_accuracies = [x[2] for x in results]\n",
    "ax = plt.axes()\n",
    "plt.title('Average Performance vs Max Depth (Single Tree)')\n",
    "ax.plot(X, training_accuracies, label='Average training accuracy')\n",
    "ax.plot(X, test_accuracies, label='Average test accuracy')\n",
    "ax.plot(X, [1]*len(X), label='y=1')\n",
    "ax.plot(X, [.75]*len(X), label='y=.75')\n",
    "plt.xlabel(\"Max Depth\")\n",
    "plt.ylabel(\"Accuracy\")\n",
    "ax.legend()\n",
    "\n",
    "plt.show()\n",
    "plt.savefig(fname='dt_performance_vs_max_depth.svg', format='svg')"
   ]
  },
  {
   "cell_type": "markdown",
   "metadata": {},
   "source": [
    "### Experimenting"
   ]
  },
  {
   "cell_type": "code",
   "execution_count": 45,
   "metadata": {},
   "outputs": [],
   "source": [
    "results = []"
   ]
  },
  {
   "cell_type": "code",
   "execution_count": 46,
   "metadata": {},
   "outputs": [],
   "source": [
    "# K-Fold without stratification\n",
    "kf = KFold(n_splits=10)\n",
    "training_accuracies = []\n",
    "test_accuracies = []\n",
    "for train, test in kf.split(sentences_X, sentences_y):\n",
    "    X_train, X_test, y_train, y_test = sentences_X[train], sentences_X[test], sentences_y[train], sentences_y[test]\n",
    "    model = DecisionTreeClassifier(random_state=0)\n",
    "    model.fit(X_train, y_train)\n",
    "    training_accuracies.append(model.score(X_train, y_train))\n",
    "    test_accuracies.append(model.score(X_test, y_test))\n",
    "results.append(['No stratification', avg(training_accuracies), avg(test_accuracies)])"
   ]
  },
  {
   "cell_type": "code",
   "execution_count": 47,
   "metadata": {},
   "outputs": [],
   "source": [
    "kf = StratifiedKFold(n_splits=10)\n",
    "training_accuracies = []\n",
    "test_accuracies = []\n",
    "for train, test in kf.split(sentences_X, sentences_y):\n",
    "    X_train, X_test, y_train, y_test = sentences_X[train], sentences_X[test], sentences_y[train], sentences_y[test]\n",
    "    model = DecisionTreeClassifier(random_state=0)\n",
    "    model.fit(X_train, y_train)\n",
    "    training_accuracies.append(model.score(X_train, y_train))\n",
    "    test_accuracies.append(model.score(X_test, y_test))\n",
    "results.append(['Stratification', avg(training_accuracies), avg(test_accuracies)])"
   ]
  },
  {
   "cell_type": "code",
   "execution_count": 48,
   "metadata": {},
   "outputs": [],
   "source": [
    "kf = StratifiedKFold(n_splits=20)\n",
    "training_accuracies = []\n",
    "test_accuracies = []\n",
    "for train, test in kf.split(sentences_X, sentences_y):\n",
    "    X_train, X_test, y_train, y_test = sentences_X[train], sentences_X[test], sentences_y[train], sentences_y[test]\n",
    "    model = DecisionTreeClassifier(random_state=0)\n",
    "    model.fit(X_train, y_train)\n",
    "    training_accuracies.append(model.score(X_train, y_train))\n",
    "    test_accuracies.append(model.score(X_test, y_test))\n",
    "results.append(['k=20', avg(training_accuracies), avg(test_accuracies)])"
   ]
  },
  {
   "cell_type": "code",
   "execution_count": 49,
   "metadata": {},
   "outputs": [],
   "source": [
    "kf = StratifiedKFold(n_splits=10)\n",
    "for criterion in ['entropy', 'log_loss']:\n",
    "    training_accuracies = []\n",
    "    test_accuracies = []\n",
    "    for train, test in kf.split(sentences_X, sentences_y):\n",
    "        X_train, X_test, y_train, y_test = sentences_X[train], sentences_X[test], sentences_y[train], sentences_y[test]\n",
    "        model = DecisionTreeClassifier(random_state=0, criterion=criterion)\n",
    "        model.fit(X_train, y_train)\n",
    "        training_accuracies.append(model.score(X_train, y_train))\n",
    "        test_accuracies.append(model.score(X_test, y_test))\n",
    "    results.append([f'{criterion=}', avg(training_accuracies), avg(test_accuracies)])"
   ]
  },
  {
   "cell_type": "code",
   "execution_count": 50,
   "metadata": {},
   "outputs": [
    {
     "name": "stdout",
     "output_type": "stream",
     "text": [
      "--------------------  --------  --------\n",
      "No stratification     0.996091  0.32774\n",
      "Stratification        0.996     0.764457\n",
      "k=20                  0.995962  0.76592\n",
      "criterion='entropy'   0.996     0.742305\n",
      "criterion='log_loss'  0.996     0.742305\n",
      "--------------------  --------  --------\n"
     ]
    }
   ],
   "source": [
    "print(tabulate(results))"
   ]
  },
  {
   "cell_type": "markdown",
   "metadata": {},
   "source": [
    "Best test set accuracy for a single decision tree: **0.7645** as evaluated by 10-fold cross-validation."
   ]
  },
  {
   "cell_type": "markdown",
   "metadata": {},
   "source": [
    "## Random Forest Classifier"
   ]
  },
  {
   "cell_type": "markdown",
   "metadata": {},
   "source": [
    "### Varying n_estimators"
   ]
  },
  {
   "cell_type": "code",
   "execution_count": 51,
   "metadata": {},
   "outputs": [],
   "source": [
    "results = []"
   ]
  },
  {
   "cell_type": "code",
   "execution_count": 54,
   "metadata": {},
   "outputs": [
    {
     "name": "stdout",
     "output_type": "stream",
     "text": [
      "n_estimators=2000\n",
      "n_estimators=3000\n"
     ]
    }
   ],
   "source": [
    "kf = StratifiedKFold(n_splits=10)\n",
    "for n_estimators in [1, 10, 20, 50, 100, 200, 300, 400, 1000]:\n",
    "    print(f\"{n_estimators=}\\r\")\n",
    "    training_accuracies = []\n",
    "    test_accuracies = []\n",
    "    max_depth = -1\n",
    "    for train, test in kf.split(sentences_X, sentences_y):\n",
    "        X_train, X_test, y_train, y_test = sentences_X[train], sentences_X[test], sentences_y[train], sentences_y[test]\n",
    "        model = RandomForestClassifier(random_state=0, n_estimators=n_estimators)\n",
    "        model.fit(X_train, y_train)\n",
    "        training_accuracies.append(model.score(X_train, y_train))\n",
    "        test_accuracies.append(model.score(X_test, y_test))\n",
    "        max_depth = max(max_depth, max([tree.get_depth() for tree in model.estimators_]))\n",
    "    results.append([f\"{n_estimators} trees\", avg(training_accuracies), avg(test_accuracies)])"
   ]
  },
  {
   "cell_type": "code",
   "execution_count": 55,
   "metadata": {},
   "outputs": [
    {
     "name": "stdout",
     "output_type": "stream",
     "text": [
      "Hyperparameters      Average training accuracy    Average test accuracy\n",
      "-----------------  ---------------------------  -----------------------\n",
      "1 trees                               0.871713                 0.650104\n",
      "10 trees                              0.994588                 0.833195\n",
      "20 trees                              0.99591                  0.86447\n",
      "50 trees                              0.996                    0.884018\n",
      "100 trees                             0.996                    0.888905\n",
      "200 trees                             0.996                    0.890371\n",
      "300 trees                             0.996                    0.891674\n",
      "400 trees                             0.996                    0.890533\n",
      "1000 trees                            0.996                    0.892651\n",
      "2000 trees                            0.996                    0.891185\n",
      "3000 trees                            0.996                    0.892325\n"
     ]
    }
   ],
   "source": [
    "print(tabulate(results, headers=[\"Hyperparameters\", \"Average training accuracy\", \"Average test accuracy\"]))"
   ]
  },
  {
   "cell_type": "code",
   "execution_count": 59,
   "metadata": {},
   "outputs": [
    {
     "data": {
      "image/png": "[encoded data removed]",
      "text/plain": [
       "<Figure size 432x288 with 1 Axes>"
      ]
     },
     "metadata": {
      "needs_background": "light"
     },
     "output_type": "display_data"
    },
    {
     "data": {
      "text/plain": [
       "<Figure size 432x288 with 0 Axes>"
      ]
     },
     "metadata": {},
     "output_type": "display_data"
    }
   ],
   "source": [
    "X = [1, 10, 20, 50, 100, 200, 300, 400, 1000, 2000, 3000]\n",
    "training_accuracies = [x[1] for x in results]\n",
    "test_accuracies = [x[2] for x in results]\n",
    "ax = plt.axes()\n",
    "plt.title('Average Performance vs Forest Size')\n",
    "ax.plot(X, training_accuracies, label='Average training accuracy')\n",
    "ax.plot(X, test_accuracies, label='Average test accuracy')\n",
    "ax.plot(X, [1]*len(X), label='y=1')\n",
    "ax.plot(X, [.9]*len(X), label='y=.9')\n",
    "plt.xlabel(\"n_estimators\")\n",
    "plt.ylabel(\"Accuracy\")\n",
    "plt.xscale('log')\n",
    "ax.legend()\n",
    "\n",
    "plt.show()\n",
    "plt.savefig(fname='rf_performance_vs_forest_size.svg', format='svg')"
   ]
  },
  {
   "cell_type": "markdown",
   "metadata": {},
   "source": [
    "Results: best at n_estimators = 1000. Anything beyond that didn't grant any improvement and dramatically slowed down training."
   ]
  },
  {
   "cell_type": "markdown",
   "metadata": {},
   "source": [
    "### Varying max_features"
   ]
  },
  {
   "cell_type": "code",
   "execution_count": 64,
   "metadata": {},
   "outputs": [],
   "source": [
    "cache = dict()"
   ]
  },
  {
   "cell_type": "code",
   "execution_count": 74,
   "metadata": {},
   "outputs": [
    {
     "name": "stdout",
     "output_type": "stream",
     "text": [
      "max_features=0.005\n",
      "\tFound in cache. Continuing...\n",
      "max_features=0.01\n",
      "\tFound in cache. Continuing...\n",
      "max_features=0.05\n",
      "\tFound in cache. Continuing...\n",
      "max_features=0.1\n",
      "\tFound in cache. Continuing...\n",
      "max_features=0.2\n",
      "\tFound in cache. Continuing...\n",
      "max_features=0.5\n",
      "\tFound in cache. Continuing...\n",
      "max_features='sqrt'\n",
      "\tFound in cache. Continuing...\n",
      "max_features=0.07\n",
      "\tFound in cache. Continuing...\n",
      "max_features=0.078\n",
      "\tFound in cache. Continuing...\n",
      "max_features      average training accuracy    average test accuracy\n",
      "--------------  ---------------------------  -----------------------\n",
      "0.005                                 0.996                 0.882228\n",
      "0.01                                  0.996                 0.882228\n",
      "0.05                                  0.996                 0.884506\n",
      "0.1                                   0.996                 0.881088\n",
      "0.2                                   0.996                 0.874246\n",
      "0.5                                   0.996                 0.864146\n",
      "sqrt                                  0.996                 0.888905\n",
      "0.07                                  0.996                 0.887113\n",
      "0.078                                 0.996                 0.888905\n"
     ]
    }
   ],
   "source": [
    "results = []\n",
    "kf = StratifiedKFold(n_splits=10)\n",
    "for max_features in [.005, .01, .05, 0.1, 0.2, 0.5, 'sqrt', 0.07, .078]:\n",
    "    print(f\"{max_features=}\")\n",
    "    if max_features in cache:\n",
    "        print(f\"\\tFound in cache. Continuing...\")\n",
    "        results.append(cache[max_features])\n",
    "        continue\n",
    "    training_accuracies = []\n",
    "    test_accuracies = []\n",
    "    for train, test in kf.split(sentences_X, sentences_y):\n",
    "        X_train, X_test, y_train, y_test = sentences_X[train], sentences_X[test], sentences_y[train], sentences_y[test]\n",
    "        clf = RandomForestClassifier(random_state=0, max_features=max_features)\n",
    "        clf.fit(X_train, y_train)\n",
    "        training_accuracies.append(clf.score(X_train, y_train))\n",
    "        test_accuracies.append(clf.score(X_test, y_test))\n",
    "    cache[max_features] = [max_features, avg(training_accuracies), avg(test_accuracies)]\n",
    "    results.append(cache[max_features])\n",
    "    \n",
    "print(tabulate(results, headers=['max_features', 'average training accuracy', 'average test accuracy']))"
   ]
  },
  {
   "cell_type": "markdown",
   "metadata": {},
   "source": [
    "Results: best test set accuracy was 0.8926, achieved with `n_estimators=1000` and the default for `max_features`."
   ]
  }
 ],
 "metadata": {
  "kernelspec": {
   "display_name": "Python 3",
   "language": "python",
   "name": "python3"
  },
  "language_info": {
   "codemirror_mode": {
    "name": "ipython",
    "version": 3
   },
   "file_extension": ".py",
   "mimetype": "text/x-python",
   "name": "python",
   "nbconvert_exporter": "python",
   "pygments_lexer": "ipython3",
   "version": "3.10.12"
  }
 },
 "nbformat": 4,
 "nbformat_minor": 2
}
